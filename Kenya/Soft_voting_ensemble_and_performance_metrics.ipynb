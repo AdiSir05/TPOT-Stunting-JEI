{
 "cells": [
  {
   "cell_type": "code",
   "execution_count": null,
   "metadata": {},
   "outputs": [],
   "source": [
    "import sys\n",
    "# !{sys.executable} -m pip install mlxtend\n",
    "import pandas as pd\n",
    "import numpy as np\n",
    "from sklearn.model_selection import train_test_split\n",
    "import pickle5 as pickle\n",
    "from mlxtend.classifier import EnsembleVoteClassifier\n",
    "from tpot.metrics import balanced_accuracy\n",
    "from sklearn.metrics import average_precision_score, roc_auc_score, precision_recall_curve, auc, accuracy_score, precision_score, recall_score, f1_score, confusion_matrix"
   ]
  },
  {
   "cell_type": "code",
   "execution_count": null,
   "metadata": {},
   "outputs": [],
   "source": [
    "data = pd.read_csv(\"kenya_stunted_data.csv\", index_col=\"Participant_Id\")"
   ]
  },
  {
   "cell_type": "code",
   "execution_count": null,
   "metadata": {},
   "outputs": [],
   "source": [
    "x = data.drop(\"Stunted [EUPATH_0035062]\", axis=1)\n",
    "y = data[\"Stunted [EUPATH_0035062]\"]\n",
    "x.info()"
   ]
  },
  {
   "cell_type": "code",
   "execution_count": null,
   "metadata": {},
   "outputs": [],
   "source": [
    "x_train, x_test, y_train, y_test = train_test_split(x, y, test_size=0.25, random_state=42, stratify=y)"
   ]
  },
  {
   "cell_type": "code",
   "execution_count": null,
   "metadata": {},
   "outputs": [],
   "source": [
    "files = []\n",
    "random_seeds = [\"100\", '12', '124', '24', '34', '44', '50', '68', '72', '75']\n",
    "\n",
    "for random in random_seeds:\n",
    "    filepath = random + '/kenya_stuntedPipeline_balanced_accuracy_' + random + '.pkl'\n",
    "    pipeline = pickle.load(open(filepath, 'rb'))\n",
    "    files.append(pipeline)"
   ]
  },
  {
   "cell_type": "code",
   "execution_count": null,
   "metadata": {},
   "outputs": [],
   "source": [
    "eclf = EnsembleVoteClassifier(clfs=files, voting='soft', weights=[1, 1, 1, 1, 1, 1, 1, 1, 1, 1], fit_base_estimators=False)"
   ]
  },
  {
   "cell_type": "code",
   "execution_count": null,
   "metadata": {},
   "outputs": [],
   "source": [
    "eclf.fit(x_train, y_train)"
   ]
  },
  {
   "cell_type": "code",
   "execution_count": null,
   "metadata": {},
   "outputs": [],
   "source": [
    "eclf.score(x_test, y_test)"
   ]
  },
  {
   "cell_type": "code",
   "execution_count": null,
   "metadata": {},
   "outputs": [],
   "source": [
    "YtestProba = eclf.predict_proba(x_test)[:, 1]\n",
    "YtestPred = eclf.predict(x_test)\n",
    "\n",
    "row = []\n",
    "row.append(\"Soft_Voting\")\n",
    "row.append(average_precision_score(y_test, YtestProba))\n",
    "row.append(roc_auc_score(y_test, YtestProba))\n",
    "precisionTest, recallTest, _ = precision_recall_curve(y_test, YtestProba)\n",
    "row.append(auc(recallTest, precisionTest))\n",
    "row.append(accuracy_score(y_test, YtestPred))\n",
    "row.append(balanced_accuracy(y_test, YtestPred))\n",
    "row.append(precision_score(y_test, YtestPred))\n",
    "row.append(recall_score(y_test, YtestPred))\n",
    "row.append(f1_score(y_test, YtestPred))\n",
    "[TN, FP, FN, TP] =  confusion_matrix(y_test, YtestPred).ravel()\n",
    "row.append(TN)\n",
    "row.append(FP)\n",
    "row.append(FN)\n",
    "row.append(TP)\n",
    "\n",
    "rows = []\n",
    "rows.append(row)"
   ]
  },
  {
   "cell_type": "code",
   "execution_count": null,
   "metadata": {},
   "outputs": [],
   "source": [
    "for i in range(10):\n",
    "    row = []\n",
    "    YtestProba = files[i].predict_proba(x_test)[:, 1]\n",
    "    YtestPred = files[i].predict(x_test)\n",
    "    \n",
    "    row.append(\"pipeline_\" + random_seeds[i])\n",
    "    row.append(average_precision_score(y_test, YtestProba))\n",
    "    row.append(roc_auc_score(y_test, YtestProba))\n",
    "    precisionTest, recallTest, _ = precision_recall_curve(y_test, YtestProba)\n",
    "    row.append(auc(recallTest, precisionTest))\n",
    "    row.append(accuracy_score(y_test, YtestPred))\n",
    "    row.append(balanced_accuracy(y_test, YtestPred))\n",
    "    row.append(precision_score(y_test, YtestPred))\n",
    "    row.append(recall_score(y_test, YtestPred))\n",
    "    row.append(f1_score(y_test, YtestPred))\n",
    "    [TN, FP, FN, TP] =  confusion_matrix(y_test, YtestPred).ravel()\n",
    "    row.append(TN)\n",
    "    row.append(FP)\n",
    "    row.append(FN)\n",
    "    row.append(TP)\n",
    "    \n",
    "    rows.append(row)\n",
    "compArray = np.array(rows)\n",
    "compArray"
   ]
  },
  {
   "cell_type": "code",
   "execution_count": null,
   "metadata": {},
   "outputs": [],
   "source": [
    "compDF = pd.DataFrame(compArray, columns=['pipeline', \"average_precision_score\", \"roc_auc_score\", \"auc\", \n",
    "                                                \"accuracy_score\", \"balanced_accuracy\", \"precision_score\", \n",
    "                                                \"recall_score\", \"f1_score\", \"TN\", 'FP', 'FN', 'TP'])\n",
    "compDF"
   ]
  },
  {
   "cell_type": "code",
   "execution_count": null,
   "metadata": {},
   "outputs": [],
   "source": [
    "compDF.to_csv(\"accuracy_scores.csv\", index=False)"
   ]
  },
  {
   "cell_type": "code",
   "execution_count": null,
   "metadata": {},
   "outputs": [],
   "source": [
    "pickle.dump(eclf, open('kenya_softVoting.pkl', 'wb'))"
   ]
  }
 ],
 "metadata": {
  "kernelspec": {
   "display_name": "Python 3",
   "language": "python",
   "name": "python3"
  },
  "language_info": {
   "codemirror_mode": {
    "name": "ipython",
    "version": 3
   },
   "file_extension": ".py",
   "mimetype": "text/x-python",
   "name": "python",
   "nbconvert_exporter": "python",
   "pygments_lexer": "ipython3",
   "version": "3.8.5"
  }
 },
 "nbformat": 4,
 "nbformat_minor": 4
}
