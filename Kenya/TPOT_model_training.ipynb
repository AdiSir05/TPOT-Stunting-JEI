{
 "cells": [
  {
   "cell_type": "code",
   "execution_count": 1,
   "metadata": {},
   "outputs": [
    {
     "name": "stderr",
     "output_type": "stream",
     "text": [
      "/Users/adi/opt/anaconda3/lib/python3.8/site-packages/tpot/builtins/__init__.py:36: UserWarning: Warning: optional dependency `torch` is not available. - skipping import of NN models.\n",
      "  warnings.warn(\"Warning: optional dependency `torch` is not available. - skipping import of NN models.\")\n"
     ]
    }
   ],
   "source": [
    "import pandas as pd\n",
    "import sys\n",
    "import pickle5 as pickle\n",
    "from sklearn.model_selection import train_test_split\n",
    "from tpot import TPOTClassifier\n",
    "from configDict import *"
   ]
  },
  {
   "cell_type": "code",
   "execution_count": 2,
   "metadata": {},
   "outputs": [],
   "source": [
    "data = pd.read_csv(\"kenya_stunted_data.csv\", index_col=\"Participant_Id\")"
   ]
  },
  {
   "cell_type": "code",
   "execution_count": 3,
   "metadata": {},
   "outputs": [],
   "source": [
    "x = data.drop(\"Stunted [EUPATH_0035062]\", axis=1)\n",
    "y = data[\"Stunted [EUPATH_0035062]\"]"
   ]
  },
  {
   "cell_type": "code",
   "execution_count": 4,
   "metadata": {},
   "outputs": [],
   "source": [
    "x_train, x_test, y_train, y_test = train_test_split(x, y, test_size=0.25, random_state=48, stratify=y)"
   ]
  },
  {
   "cell_type": "code",
   "execution_count": 5,
   "metadata": {},
   "outputs": [],
   "source": [
    "random_states = [100, 12, 124, 24, 34, 50, 68, 72, 75, 44]\n",
    "scoring = \"balanced_accuracy\""
   ]
  },
  {
   "cell_type": "code",
   "execution_count": null,
   "metadata": {
    "scrolled": true
   },
   "outputs": [],
   "source": [
    "for seed in random_states:\n",
    "    tpot = TPOTClassifier(generations=100, population_size=100, random_state=seed, verbosity=2, \n",
    "                      config_dict=classifier_proba_config_dict, scoring = 'balanced_accuracy',\n",
    "                          log_file='kenya_stuntedPipeline_' + scoring + '_' + str(seed) + '.log')\n",
    "    tpot.fit(x_train, y_train)\n",
    "    tpot.export('kneya_stuntedPipeline_' + scoring + '_' + str(seed) + '.py')\n",
    "    scores = []\n",
    "    scores.append([tpot._optimized_pipeline_score, tpot.score(x_test, y_test)])\n",
    "    scoreDf = pd.DataFrame(scores, columns = ['Training Score', 'Testing Score'])\n",
    "    scoreDf.to_csv('kenya_stuntedPipeline_' + scoring + '_' +  str(seed) + '.csv')\n",
    "    bestPipeline = tpot.fitted_pipeline_\n",
    "    pickle.dump(bestPipeline, open('kenya_stuntedPipeline_' + scoring + '_' + str(seed) + '.pkl', 'wb'))"
   ]
  }
 ],
 "metadata": {
  "kernelspec": {
   "display_name": "Python 3",
   "language": "python",
   "name": "python3"
  },
  "language_info": {
   "codemirror_mode": {
    "name": "ipython",
    "version": 3
   },
   "file_extension": ".py",
   "mimetype": "text/x-python",
   "name": "python",
   "nbconvert_exporter": "python",
   "pygments_lexer": "ipython3",
   "version": "3.8.5"
  }
 },
 "nbformat": 4,
 "nbformat_minor": 4
}
